{
 "cells": [
  {
   "cell_type": "markdown",
   "id": "2b8dfcbf",
   "metadata": {},
   "source": [
    "# 📘 Extended Kalman Filter: 2D Range-Bearing Tracking"
   ]
  },
  {
   "cell_type": "markdown",
   "id": "dc847bbd",
   "metadata": {},
   "source": [
    "\n",
    "This notebook explains the theory and implementation details of a 2D tracking system using an **Extended Kalman Filter (EKF)** with nonlinear range-bearing measurements.\n"
   ]
  },
  {
   "cell_type": "markdown",
   "id": "4eaf5bf9",
   "metadata": {},
   "source": [
    "\n",
    "## 📚 Table of Contents\n",
    "1. [System Model](#system-model)\n",
    "2. [Extended Kalman Filter](#ekf)\n",
    "3. [MATLAB Simulation](#matlab-simulation)\n",
    "4. [Results](#results)\n",
    "5. [Conclusion](#conclusion)\n"
   ]
  },
  {
   "cell_type": "markdown",
   "id": "072d40a8",
   "metadata": {},
   "source": [
    "\n",
    "## 🔧 System Model <a id='system-model'></a>\n",
    "\n",
    "State vector:\n",
    "\n",
    "$$\n",
    "\\mathbf{x} = \\begin{bmatrix} x \\\\ y \\\\ \\dot{x} \\\\ \\dot{y} \\end{bmatrix}\n",
    "$$\n",
    "\n",
    "State transition:\n",
    "\n",
    "$$\n",
    "\\mathbf{x}_{k+1} = \\Phi \\mathbf{x}_k + G \\mathbf{w}_k\n",
    "$$\n",
    "\n",
    "Measurement model:\n",
    "\n",
    "$$\n",
    "\\mathbf{z}_k = h(\\mathbf{x}_k) + \\mathbf{v}_k\n",
    "$$\n",
    "\n",
    "with:\n",
    "\n",
    "$$\n",
    "h(\\mathbf{x}) = \\begin{bmatrix}\n",
    "\\sqrt{x^2 + y^2} \\\\\n",
    "\\text{atan2}(y, x)\n",
    "\\end{bmatrix}\n",
    "$$\n"
   ]
  },
  {
   "cell_type": "markdown",
   "id": "88f5b3f5",
   "metadata": {},
   "source": [
    "\n",
    "## 🧮 Extended Kalman Filter <a id='ekf'></a>\n",
    "\n",
    "### Prediction\n",
    "\n",
    "$$\n",
    "\\hat{\\mathbf{x}}_{k|k-1} = \\Phi \\hat{\\mathbf{x}}_{k-1}, \\quad P_{k|k-1} = \\Phi P_{k-1} \\Phi^T + Q\n",
    "$$\n",
    "\n",
    "### Update\n",
    "\n",
    "1. Linearize: Jacobian \\( H_k \\)\n",
    "2. Innovation:\n",
    "\n",
    "$$\n",
    "\\tilde{y}_k = z_k - h(\\hat{\\mathbf{x}}_{k|k-1})\n",
    "$$\n",
    "\n",
    "3. Kalman Gain:\n",
    "\n",
    "$$\n",
    "K_k = P_{k|k-1} H_k^T (H_k P_{k|k-1} H_k^T + R)^{-1}\n",
    "$$\n",
    "\n",
    "4. Update:\n",
    "\n",
    "$$\n",
    "\\hat{\\mathbf{x}}_k = \\hat{\\mathbf{x}}_{k|k-1} + K_k \\tilde{y}_k, \\quad P_k = (I - K_k H_k) P_{k|k-1}\n",
    "$$\n"
   ]
  },
  {
   "cell_type": "markdown",
   "id": "0ee6e738",
   "metadata": {},
   "source": [
    "\n",
    "## 🔍 MATLAB Simulation <a id='matlab-simulation'></a>\n",
    "\n",
    "The simulation is implemented in `kalman_filter_simulation.m`.\n",
    "\n",
    "It:\n",
    "\n",
    "- Simulates true motion with noise\n",
    "- Simulates noisy range/bearing measurements\n",
    "- Implements EKF prediction and update\n",
    "- Stores state history, covariances, and variances\n",
    "\n",
    "Key functions: `wrapToPi`, `mvnrnd`, `diag`, plotting\n",
    "\n"
   ]
  },
  {
   "cell_type": "markdown",
   "id": "79b5e0a9",
   "metadata": {},
   "source": [
    "\n",
    "## 📊 Results <a id='results'></a>\n",
    "\n",
    "Paste plots here or describe results:\n",
    "\n",
    "- Estimated states converge to true values\n",
    "- Variances shrink as filter gains confidence\n",
    "- Trajectory estimation closely matches actual path\n"
   ]
  },
  {
   "cell_type": "markdown",
   "id": "234f419f",
   "metadata": {},
   "source": [
    "\n",
    "## ✅ Conclusion <a id='conclusion'></a>\n",
    "\n",
    "The EKF effectively tracks nonlinear measurements in 2D. It shows:\n",
    "\n",
    "- Good performance under noise\n",
    "- Importance of linearization\n",
    "- Correctness of covariance handling\n",
    "\n",
    "Potential next steps:\n",
    "\n",
    "- Add RMSE analysis\n",
    "- Try Unscented Kalman Filter (UKF)\n",
    "- Apply to real sensor data\n"
   ]
  }
 ],
 "metadata": {
  "kernelspec": {
   "display_name": "Python [conda env:base] *",
   "language": "python",
   "name": "conda-base-py"
  },
  "language_info": {
   "codemirror_mode": {
    "name": "ipython",
    "version": 3
   },
   "file_extension": ".py",
   "mimetype": "text/x-python",
   "name": "python",
   "nbconvert_exporter": "python",
   "pygments_lexer": "ipython3",
   "version": "3.12.7"
  }
 },
 "nbformat": 4,
 "nbformat_minor": 5
}
